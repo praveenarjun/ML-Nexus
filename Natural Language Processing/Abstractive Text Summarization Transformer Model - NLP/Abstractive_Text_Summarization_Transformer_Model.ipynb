{
 "cells": [
  {
   "cell_type": "markdown",
   "metadata": {
    "id": "MLgO51ZMmTGT"
   },
   "source": [
    "## Install Modules"
   ]
  },
  {
   "cell_type": "code",
   "execution_count": 1,
   "metadata": {
    "id": "vZ3oovMUmStT"
   },
   "outputs": [],
   "source": [
    "# !pip install transformers\n",
    "# !pip install torch"
   ]
  },
  {
   "cell_type": "code",
   "execution_count": 2,
   "metadata": {},
   "outputs": [],
   "source": [
    "# pip install sentencepiece\n"
   ]
  },
  {
   "cell_type": "markdown",
   "metadata": {
    "id": "apYJ3Uu6me0L"
   },
   "source": [
    "## Import Modules"
   ]
  },
  {
   "cell_type": "code",
   "execution_count": 3,
   "metadata": {
    "id": "NM4WowCakwqc"
   },
   "outputs": [
    {
     "name": "stderr",
     "output_type": "stream",
     "text": [
      "C:\\Users\\DEEPANSHU\\anaconda3\\Lib\\site-packages\\transformers\\utils\\generic.py:260: FutureWarning: `torch.utils._pytree._register_pytree_node` is deprecated. Please use `torch.utils._pytree.register_pytree_node` instead.\n",
      "  torch.utils._pytree._register_pytree_node(\n"
     ]
    }
   ],
   "source": [
    "import torch\n",
    "from transformers import T5Tokenizer, T5ForConditionalGeneration, T5Config"
   ]
  },
  {
   "cell_type": "code",
   "execution_count": 4,
   "metadata": {
    "id": "sRvZhj4Nm1wb"
   },
   "outputs": [
    {
     "data": {
      "application/vnd.jupyter.widget-view+json": {
       "model_id": "c99115378904414ba9b4120bbf4fa721",
       "version_major": 2,
       "version_minor": 0
      },
      "text/plain": [
       "Downloading spiece.model:   0%|          | 0.00/792k [00:00<?, ?B/s]"
      ]
     },
     "metadata": {},
     "output_type": "display_data"
    },
    {
     "name": "stderr",
     "output_type": "stream",
     "text": [
      "C:\\Users\\DEEPANSHU\\anaconda3\\Lib\\site-packages\\huggingface_hub\\file_download.py:133: UserWarning: `huggingface_hub` cache-system uses symlinks by default to efficiently store duplicated files but your machine does not support them in C:\\Users\\DEEPANSHU\\.cache\\huggingface\\hub. Caching files will still work but in a degraded version that might require more space on your disk. This warning can be disabled by setting the `HF_HUB_DISABLE_SYMLINKS_WARNING` environment variable. For more details, see https://huggingface.co/docs/huggingface_hub/how-to-cache#limitations.\n",
      "To support symlinks on Windows, you either need to activate Developer Mode or to run Python as an administrator. In order to see activate developer mode, see this article: https://docs.microsoft.com/en-us/windows/apps/get-started/enable-your-device-for-development\n",
      "  warnings.warn(message)\n"
     ]
    },
    {
     "data": {
      "application/vnd.jupyter.widget-view+json": {
       "model_id": "8afbf21db280480aaf72766a401c5ace",
       "version_major": 2,
       "version_minor": 0
      },
      "text/plain": [
       "Downloading tokenizer_config.json:   0%|          | 0.00/2.32k [00:00<?, ?B/s]"
      ]
     },
     "metadata": {},
     "output_type": "display_data"
    },
    {
     "name": "stderr",
     "output_type": "stream",
     "text": [
      "You are using the default legacy behaviour of the <class 'transformers.models.t5.tokenization_t5.T5Tokenizer'>. If you see this, DO NOT PANIC! This is expected, and simply means that the `legacy` (previous) behavior will be used so nothing changes for you. If you want to use the new behaviour, set `legacy=True`. This should only be set if you understand what it means, and thouroughly read the reason why this was added as explained in https://github.com/huggingface/transformers/pull/24565\n"
     ]
    }
   ],
   "source": [
    "# initialize the pretrained model\n",
    "model = T5ForConditionalGeneration.from_pretrained('t5-small')\n",
    "tokenizer = T5Tokenizer.from_pretrained('t5-small')\n",
    "device = torch.device('cpu')"
   ]
  },
  {
   "cell_type": "code",
   "execution_count": 12,
   "metadata": {
    "id": "TBJtnYxjnMp7"
   },
   "outputs": [],
   "source": [
    "# input text for testing purpose (We get Text From the corpus)\n",
    "text = \"\"\"\n",
    "Climate change is one of the most pressing global challenges of our time, affecting ecosystems, economies, and communities around the world. Rising temperatures, melting ice caps, and increasingly severe weather patterns have become undeniable indicators of the planet's changing climate. These changes have led to a range of environmental issues, such as rising sea levels, shifts in biodiversity, and altered agricultural patterns. In many regions, droughts and floods have intensified, threatening food security and access to clean water.\n",
    "\n",
    "Governments and organizations are now working to mitigate the impact of climate change through various initiatives. International agreements like the Paris Agreement aim to reduce greenhouse gas emissions and limit global warming to below 2 degrees Celsius. Renewable energy sources, such as wind and solar power, are becoming more widespread, offering a cleaner alternative to fossil fuels. However, transitioning to a low-carbon economy requires significant investment, technological innovation, and public policy reforms.\n",
    "\n",
    "Despite these efforts, many challenges remain, particularly in developing countries that are more vulnerable to the effects of climate change. Communities in coastal areas and small island nations face displacement due to rising sea levels, while agricultural-dependent regions struggle with crop failures and water scarcity. Addressing climate change is not just an environmental issue but also a matter of social and economic justice, as its impacts disproportionately affect the poorest and most marginalized populations.\n",
    "\n",
    "In addition to reducing emissions, adapting to the consequences of climate change is critical. This involves building resilient infrastructure, protecting natural habitats, and creating early warning systems for natural disasters. Ultimately, a global, collaborative approach is essential to tackling climate change and ensuring a sustainable future for all.\n",
    "\n",
    "As the effects of climate change become more pronounced, industries and businesses are also recognizing the need for sustainability in their operations. Many companies are adopting greener practices, such as reducing energy consumption, minimizing waste, and using eco-friendly materials. Corporations are increasingly aware of the potential financial risks posed by climate-related disruptions and are investing in strategies to future-proof their operations.\n",
    "\n",
    "Education and public awareness campaigns have also become essential tools in the fight against climate change. By informing the public about the causes and effects of global warming, governments hope to encourage individuals to adopt more sustainable lifestyles. Small actions, like reducing plastic use, opting for public transportation, and supporting renewable energy initiatives, can collectively make a significant impact.\n",
    "\n",
    "Furthermore, innovation in science and technology plays a critical role in addressing climate change. From advancements in carbon capture and storage to breakthroughs in renewable energy technology, innovation is essential to reducing emissions and adapting to new climate realities. Governments and private organizations are funding research and development to find new solutions that can accelerate the transition to a more sustainable future.\n",
    "\n",
    "Looking forward, the next decade will be crucial in determining the trajectory of global climate efforts. If countries can meet their emission reduction targets and make necessary investments in clean technology, there is hope to avoid the most catastrophic outcomes of climate change. The collective action of governments, businesses, and individuals will define the future of our planet. Climate resilience and environmental stewardship are no longer optional but a shared responsibility to preserve the Earth for future generations.\n",
    "\"\"\""
   ]
  },
  {
   "cell_type": "code",
   "execution_count": 13,
   "metadata": {
    "id": "QUIY1EQVop_b"
   },
   "outputs": [],
   "source": [
    "## preprocess the input text\n",
    "preprocessed_text = text.strip().replace('\\n','')\n",
    "t5_input_text = 'summarize: ' + preprocessed_text"
   ]
  },
  {
   "cell_type": "code",
   "execution_count": 14,
   "metadata": {
    "colab": {
     "base_uri": "https://localhost:8080/",
     "height": 140
    },
    "id": "cgCbmSLbpXgr",
    "outputId": "efdf5c9a-c973-4858-880f-e9e3c797a9b6"
   },
   "outputs": [
    {
     "data": {
      "text/plain": [
       "\"summarize: Climate change is one of the most pressing global challenges of our time, affecting ecosystems, economies, and communities around the world. Rising temperatures, melting ice caps, and increasingly severe weather patterns have become undeniable indicators of the planet's changing climate. These changes have led to a range of environmental issues, such as rising sea levels, shifts in biodiversity, and altered agricultural patterns. In many regions, droughts and floods have intensified, threatening food security and access to clean water.Governments and organizations are now working to mitigate the impact of climate change through various initiatives. International agreements like the Paris Agreement aim to reduce greenhouse gas emissions and limit global warming to below 2 degrees Celsius. Renewable energy sources, such as wind and solar power, are becoming more widespread, offering a cleaner alternative to fossil fuels. However, transitioning to a low-carbon economy requires significant investment, technological innovation, and public policy reforms.Despite these efforts, many challenges remain, particularly in developing countries that are more vulnerable to the effects of climate change. Communities in coastal areas and small island nations face displacement due to rising sea levels, while agricultural-dependent regions struggle with crop failures and water scarcity. Addressing climate change is not just an environmental issue but also a matter of social and economic justice, as its impacts disproportionately affect the poorest and most marginalized populations.In addition to reducing emissions, adapting to the consequences of climate change is critical. This involves building resilient infrastructure, protecting natural habitats, and creating early warning systems for natural disasters. Ultimately, a global, collaborative approach is essential to tackling climate change and ensuring a sustainable future for all.As the effects of climate change become more pronounced, industries and businesses are also recognizing the need for sustainability in their operations. Many companies are adopting greener practices, such as reducing energy consumption, minimizing waste, and using eco-friendly materials. Corporations are increasingly aware of the potential financial risks posed by climate-related disruptions and are investing in strategies to future-proof their operations.Education and public awareness campaigns have also become essential tools in the fight against climate change. By informing the public about the causes and effects of global warming, governments hope to encourage individuals to adopt more sustainable lifestyles. Small actions, like reducing plastic use, opting for public transportation, and supporting renewable energy initiatives, can collectively make a significant impact.Furthermore, innovation in science and technology plays a critical role in addressing climate change. From advancements in carbon capture and storage to breakthroughs in renewable energy technology, innovation is essential to reducing emissions and adapting to new climate realities. Governments and private organizations are funding research and development to find new solutions that can accelerate the transition to a more sustainable future.Looking forward, the next decade will be crucial in determining the trajectory of global climate efforts. If countries can meet their emission reduction targets and make necessary investments in clean technology, there is hope to avoid the most catastrophic outcomes of climate change. The collective action of governments, businesses, and individuals will define the future of our planet. Climate resilience and environmental stewardship are no longer optional but a shared responsibility to preserve the Earth for future generations.\""
      ]
     },
     "execution_count": 14,
     "metadata": {},
     "output_type": "execute_result"
    }
   ],
   "source": [
    "t5_input_text"
   ]
  },
  {
   "cell_type": "code",
   "execution_count": 15,
   "metadata": {
    "colab": {
     "base_uri": "https://localhost:8080/"
    },
    "id": "ogRtl7PZpC3m",
    "outputId": "84e66c5b-f5a9-49b0-8067-f174656977ab"
   },
   "outputs": [
    {
     "data": {
      "text/plain": [
       "526"
      ]
     },
     "execution_count": 15,
     "metadata": {},
     "output_type": "execute_result"
    }
   ],
   "source": [
    "len(t5_input_text.split())"
   ]
  },
  {
   "cell_type": "code",
   "execution_count": 16,
   "metadata": {
    "id": "xfGLHnLUpXKK"
   },
   "outputs": [],
   "source": [
    "tokenized_text = tokenizer.encode(t5_input_text, return_tensors='pt', max_length=512).to(device)"
   ]
  },
  {
   "cell_type": "markdown",
   "metadata": {
    "id": "-yx_Q72vqGCb"
   },
   "source": [
    "## Summarize"
   ]
  },
  {
   "cell_type": "code",
   "execution_count": 17,
   "metadata": {
    "id": "FQEq-Y0_p5gr"
   },
   "outputs": [],
   "source": [
    "summary_ids = model.generate(tokenized_text, min_length=30, max_length=120)\n",
    "summary = tokenizer.decode(summary_ids[0], skip_special_tokens=True)"
   ]
  },
  {
   "cell_type": "code",
   "execution_count": 18,
   "metadata": {
    "colab": {
     "base_uri": "https://localhost:8080/",
     "height": 70
    },
    "id": "nqEQhRI4qcfb",
    "outputId": "f66346db-5559-459f-d220-16f8fefab917",
    "scrolled": true
   },
   "outputs": [
    {
     "data": {
      "text/plain": [
       "'climate change is one of the most pressing global challenges of our time. rising temperatures, melting ice caps, and severe weather patterns have led to a range of environmental issues. droughts and floods have intensified, threatening food security and access to clean water.'"
      ]
     },
     "execution_count": 18,
     "metadata": {},
     "output_type": "execute_result"
    }
   ],
   "source": [
    "summary"
   ]
  },
  {
   "cell_type": "code",
   "execution_count": null,
   "metadata": {
    "id": "ou8vEjdeq-dS"
   },
   "outputs": [],
   "source": []
  },
  {
   "cell_type": "code",
   "execution_count": null,
   "metadata": {},
   "outputs": [],
   "source": []
  }
 ],
 "metadata": {
  "accelerator": "GPU",
  "colab": {
   "collapsed_sections": [],
   "name": "Abstractive Text Summarization - Transformer Model.ipynb",
   "provenance": []
  },
  "kernelspec": {
   "display_name": "Python 3 (ipykernel)",
   "language": "python",
   "name": "python3"
  },
  "language_info": {
   "codemirror_mode": {
    "name": "ipython",
    "version": 3
   },
   "file_extension": ".py",
   "mimetype": "text/x-python",
   "name": "python",
   "nbconvert_exporter": "python",
   "pygments_lexer": "ipython3",
   "version": "3.11.5"
  }
 },
 "nbformat": 4,
 "nbformat_minor": 1
}
