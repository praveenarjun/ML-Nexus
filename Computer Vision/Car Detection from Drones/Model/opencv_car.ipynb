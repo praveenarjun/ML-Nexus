{
  "nbformat": 4,
  "nbformat_minor": 0,
  "metadata": {
    "colab": {
      "provenance": []
    },
    "kernelspec": {
      "name": "python3",
      "display_name": "Python 3"
    },
    "language_info": {
      "name": "python"
    }
  },
  "cells": [
    {
      "cell_type": "code",
      "source": [
        "import cv2\n",
        "import numpy as np\n",
        "from google.colab.patches import cv2_imshow  # Import the necessary function\n",
        "\n",
        "cap = cv2.VideoCapture(\"/content/traffic.mp4\")\n",
        "\n",
        "cap.set(cv2.CAP_PROP_FRAME_WIDTH, 640)\n",
        "cap.set(cv2.CAP_PROP_FRAME_HEIGHT, 480)\n",
        "\n",
        "algo = cv2.createBackgroundSubtractorMOG2()\n",
        "\n",
        "min_width_rect = 20\n",
        "min_height_rect = 20\n",
        "while True:\n",
        "    success, frame = cap.read()\n",
        "    if not success:\n",
        "        print(\"Video analysis successful\")\n",
        "        break\n",
        "\n",
        "    grey = cv2.cvtColor(frame, cv2.COLOR_BGR2GRAY)\n",
        "    blur = cv2.GaussianBlur(grey, (3, 3), 5)\n",
        "\n",
        "    img_sub = algo.apply(blur)\n",
        "    dilat = cv2.dilate(img_sub, np.ones((5, 5), np.uint8))\n",
        "    kernel = cv2.getStructuringElement(cv2.MORPH_ELLIPSE, (5, 5))\n",
        "    dil = cv2.morphologyEx(dilat, cv2.MORPH_CLOSE, kernel)\n",
        "    dil = cv2.morphologyEx(dil, cv2.MORPH_CLOSE, kernel)\n",
        "\n",
        "    contours, _ = cv2.findContours(dil, cv2.RETR_TREE, cv2.CHAIN_APPROX_SIMPLE)\n",
        "\n",
        "    for c in contours:\n",
        "        (x, y, w, h) = cv2.boundingRect(c)\n",
        "        validate_counter = (w >= min_width_rect) and (h >= min_height_rect)\n",
        "        if not validate_counter:\n",
        "            continue\n",
        "\n",
        "        cv2.rectangle(frame, (x, y), (x + w, y + h), (0, 0, 255), 2)\n",
        "        cv2.putText(frame, \"Car Detected\", (x, y - 10), cv2.FONT_HERSHEY_SIMPLEX, 0.5, (0, 255, 0), 2)\n",
        "\n",
        "    cv2_imshow(frame)  # Use cv2_imshow instead of cv2.imshow\n",
        "    cv2_imshow(dil)    # Use cv2_imshow instead of cv2.imshow\n",
        "\n",
        "    if cv2.waitKey(1) & 0xFF == ord('q'):\n",
        "        break\n",
        "\n",
        "cap.release()\n",
        "cv2.destroyAllWindows()\n"
      ],
      "metadata": {
        "id": "tLVhXLcXCLz1"
      },
      "execution_count": null,
      "outputs": []
    },
    {
      "cell_type": "code",
      "source": [],
      "metadata": {
        "id": "_u_Z1SwqCWBx"
      },
      "execution_count": null,
      "outputs": []
    }
  ]
}