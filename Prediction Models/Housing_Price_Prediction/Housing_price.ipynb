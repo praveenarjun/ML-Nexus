{
 "cells": [
  {
   "cell_type": "code",
   "execution_count": 115,
   "id": "ae23314c",
   "metadata": {},
   "outputs": [],
   "source": [
    "import numpy as np\n",
    "import pandas as pd\n",
    "import matplotlib.pyplot as plt\n",
    "import seaborn as sns"
   ]
  },
  {
   "cell_type": "markdown",
   "id": "a8a0e6b8",
   "metadata": {},
   "source": [
    "-------------------------------------------------------------------------------------------------------------------\n",
    "Data Collection and Preprocessing"
   ]
  },
  {
   "cell_type": "code",
   "execution_count": 116,
   "id": "c6bf149c",
   "metadata": {},
   "outputs": [],
   "source": [
    "train_data = pd.read_csv('train.csv')"
   ]
  },
  {
   "cell_type": "code",
   "execution_count": 117,
   "id": "3a0664d9",
   "metadata": {},
   "outputs": [
    {
     "data": {
      "text/html": [
       "<div>\n",
       "<style scoped>\n",
       "    .dataframe tbody tr th:only-of-type {\n",
       "        vertical-align: middle;\n",
       "    }\n",
       "\n",
       "    .dataframe tbody tr th {\n",
       "        vertical-align: top;\n",
       "    }\n",
       "\n",
       "    .dataframe thead th {\n",
       "        text-align: right;\n",
       "    }\n",
       "</style>\n",
       "<table border=\"1\" class=\"dataframe\">\n",
       "  <thead>\n",
       "    <tr style=\"text-align: right;\">\n",
       "      <th></th>\n",
       "      <th>Id</th>\n",
       "      <th>MSSubClass</th>\n",
       "      <th>MSZoning</th>\n",
       "      <th>LotFrontage</th>\n",
       "      <th>LotArea</th>\n",
       "      <th>Street</th>\n",
       "      <th>Alley</th>\n",
       "      <th>LotShape</th>\n",
       "      <th>LandContour</th>\n",
       "      <th>Utilities</th>\n",
       "      <th>...</th>\n",
       "      <th>PoolArea</th>\n",
       "      <th>PoolQC</th>\n",
       "      <th>Fence</th>\n",
       "      <th>MiscFeature</th>\n",
       "      <th>MiscVal</th>\n",
       "      <th>MoSold</th>\n",
       "      <th>YrSold</th>\n",
       "      <th>SaleType</th>\n",
       "      <th>SaleCondition</th>\n",
       "      <th>SalePrice</th>\n",
       "    </tr>\n",
       "  </thead>\n",
       "  <tbody>\n",
       "    <tr>\n",
       "      <th>0</th>\n",
       "      <td>1</td>\n",
       "      <td>60</td>\n",
       "      <td>RL</td>\n",
       "      <td>65.0</td>\n",
       "      <td>8450</td>\n",
       "      <td>Pave</td>\n",
       "      <td>NaN</td>\n",
       "      <td>Reg</td>\n",
       "      <td>Lvl</td>\n",
       "      <td>AllPub</td>\n",
       "      <td>...</td>\n",
       "      <td>0</td>\n",
       "      <td>NaN</td>\n",
       "      <td>NaN</td>\n",
       "      <td>NaN</td>\n",
       "      <td>0</td>\n",
       "      <td>2</td>\n",
       "      <td>2008</td>\n",
       "      <td>WD</td>\n",
       "      <td>Normal</td>\n",
       "      <td>208500</td>\n",
       "    </tr>\n",
       "    <tr>\n",
       "      <th>1</th>\n",
       "      <td>2</td>\n",
       "      <td>20</td>\n",
       "      <td>RL</td>\n",
       "      <td>80.0</td>\n",
       "      <td>9600</td>\n",
       "      <td>Pave</td>\n",
       "      <td>NaN</td>\n",
       "      <td>Reg</td>\n",
       "      <td>Lvl</td>\n",
       "      <td>AllPub</td>\n",
       "      <td>...</td>\n",
       "      <td>0</td>\n",
       "      <td>NaN</td>\n",
       "      <td>NaN</td>\n",
       "      <td>NaN</td>\n",
       "      <td>0</td>\n",
       "      <td>5</td>\n",
       "      <td>2007</td>\n",
       "      <td>WD</td>\n",
       "      <td>Normal</td>\n",
       "      <td>181500</td>\n",
       "    </tr>\n",
       "    <tr>\n",
       "      <th>2</th>\n",
       "      <td>3</td>\n",
       "      <td>60</td>\n",
       "      <td>RL</td>\n",
       "      <td>68.0</td>\n",
       "      <td>11250</td>\n",
       "      <td>Pave</td>\n",
       "      <td>NaN</td>\n",
       "      <td>IR1</td>\n",
       "      <td>Lvl</td>\n",
       "      <td>AllPub</td>\n",
       "      <td>...</td>\n",
       "      <td>0</td>\n",
       "      <td>NaN</td>\n",
       "      <td>NaN</td>\n",
       "      <td>NaN</td>\n",
       "      <td>0</td>\n",
       "      <td>9</td>\n",
       "      <td>2008</td>\n",
       "      <td>WD</td>\n",
       "      <td>Normal</td>\n",
       "      <td>223500</td>\n",
       "    </tr>\n",
       "    <tr>\n",
       "      <th>3</th>\n",
       "      <td>4</td>\n",
       "      <td>70</td>\n",
       "      <td>RL</td>\n",
       "      <td>60.0</td>\n",
       "      <td>9550</td>\n",
       "      <td>Pave</td>\n",
       "      <td>NaN</td>\n",
       "      <td>IR1</td>\n",
       "      <td>Lvl</td>\n",
       "      <td>AllPub</td>\n",
       "      <td>...</td>\n",
       "      <td>0</td>\n",
       "      <td>NaN</td>\n",
       "      <td>NaN</td>\n",
       "      <td>NaN</td>\n",
       "      <td>0</td>\n",
       "      <td>2</td>\n",
       "      <td>2006</td>\n",
       "      <td>WD</td>\n",
       "      <td>Abnorml</td>\n",
       "      <td>140000</td>\n",
       "    </tr>\n",
       "    <tr>\n",
       "      <th>4</th>\n",
       "      <td>5</td>\n",
       "      <td>60</td>\n",
       "      <td>RL</td>\n",
       "      <td>84.0</td>\n",
       "      <td>14260</td>\n",
       "      <td>Pave</td>\n",
       "      <td>NaN</td>\n",
       "      <td>IR1</td>\n",
       "      <td>Lvl</td>\n",
       "      <td>AllPub</td>\n",
       "      <td>...</td>\n",
       "      <td>0</td>\n",
       "      <td>NaN</td>\n",
       "      <td>NaN</td>\n",
       "      <td>NaN</td>\n",
       "      <td>0</td>\n",
       "      <td>12</td>\n",
       "      <td>2008</td>\n",
       "      <td>WD</td>\n",
       "      <td>Normal</td>\n",
       "      <td>250000</td>\n",
       "    </tr>\n",
       "  </tbody>\n",
       "</table>\n",
       "<p>5 rows × 81 columns</p>\n",
       "</div>"
      ],
      "text/plain": [
       "   Id  MSSubClass MSZoning  LotFrontage  LotArea Street Alley LotShape  \\\n",
       "0   1          60       RL         65.0     8450   Pave   NaN      Reg   \n",
       "1   2          20       RL         80.0     9600   Pave   NaN      Reg   \n",
       "2   3          60       RL         68.0    11250   Pave   NaN      IR1   \n",
       "3   4          70       RL         60.0     9550   Pave   NaN      IR1   \n",
       "4   5          60       RL         84.0    14260   Pave   NaN      IR1   \n",
       "\n",
       "  LandContour Utilities  ... PoolArea PoolQC Fence MiscFeature MiscVal MoSold  \\\n",
       "0         Lvl    AllPub  ...        0    NaN   NaN         NaN       0      2   \n",
       "1         Lvl    AllPub  ...        0    NaN   NaN         NaN       0      5   \n",
       "2         Lvl    AllPub  ...        0    NaN   NaN         NaN       0      9   \n",
       "3         Lvl    AllPub  ...        0    NaN   NaN         NaN       0      2   \n",
       "4         Lvl    AllPub  ...        0    NaN   NaN         NaN       0     12   \n",
       "\n",
       "  YrSold  SaleType  SaleCondition  SalePrice  \n",
       "0   2008        WD         Normal     208500  \n",
       "1   2007        WD         Normal     181500  \n",
       "2   2008        WD         Normal     223500  \n",
       "3   2006        WD        Abnorml     140000  \n",
       "4   2008        WD         Normal     250000  \n",
       "\n",
       "[5 rows x 81 columns]"
      ]
     },
     "execution_count": 117,
     "metadata": {},
     "output_type": "execute_result"
    }
   ],
   "source": [
    "train_data.head()"
   ]
  },
  {
   "cell_type": "code",
   "execution_count": 118,
   "id": "213d162a",
   "metadata": {},
   "outputs": [],
   "source": [
    "train_data = train_data.select_dtypes(include=['int64','float64']).dropna()"
   ]
  },
  {
   "cell_type": "code",
   "execution_count": 119,
   "id": "f6bd5875",
   "metadata": {},
   "outputs": [],
   "source": [
    "x_train = train_data.drop(columns=['SalePrice'], axis=1)"
   ]
  },
  {
   "cell_type": "code",
   "execution_count": 120,
   "id": "98bb16be",
   "metadata": {},
   "outputs": [],
   "source": [
    "#x_train = x_train.select_dtypes(include=['int64','float64']).dropna()"
   ]
  },
  {
   "cell_type": "code",
   "execution_count": 121,
   "id": "a7f65195",
   "metadata": {},
   "outputs": [
    {
     "name": "stdout",
     "output_type": "stream",
     "text": [
      "<class 'pandas.core.frame.DataFrame'>\n",
      "Int64Index: 1121 entries, 0 to 1459\n",
      "Data columns (total 37 columns):\n",
      " #   Column         Non-Null Count  Dtype  \n",
      "---  ------         --------------  -----  \n",
      " 0   Id             1121 non-null   int64  \n",
      " 1   MSSubClass     1121 non-null   int64  \n",
      " 2   LotFrontage    1121 non-null   float64\n",
      " 3   LotArea        1121 non-null   int64  \n",
      " 4   OverallQual    1121 non-null   int64  \n",
      " 5   OverallCond    1121 non-null   int64  \n",
      " 6   YearBuilt      1121 non-null   int64  \n",
      " 7   YearRemodAdd   1121 non-null   int64  \n",
      " 8   MasVnrArea     1121 non-null   float64\n",
      " 9   BsmtFinSF1     1121 non-null   int64  \n",
      " 10  BsmtFinSF2     1121 non-null   int64  \n",
      " 11  BsmtUnfSF      1121 non-null   int64  \n",
      " 12  TotalBsmtSF    1121 non-null   int64  \n",
      " 13  1stFlrSF       1121 non-null   int64  \n",
      " 14  2ndFlrSF       1121 non-null   int64  \n",
      " 15  LowQualFinSF   1121 non-null   int64  \n",
      " 16  GrLivArea      1121 non-null   int64  \n",
      " 17  BsmtFullBath   1121 non-null   int64  \n",
      " 18  BsmtHalfBath   1121 non-null   int64  \n",
      " 19  FullBath       1121 non-null   int64  \n",
      " 20  HalfBath       1121 non-null   int64  \n",
      " 21  BedroomAbvGr   1121 non-null   int64  \n",
      " 22  KitchenAbvGr   1121 non-null   int64  \n",
      " 23  TotRmsAbvGrd   1121 non-null   int64  \n",
      " 24  Fireplaces     1121 non-null   int64  \n",
      " 25  GarageYrBlt    1121 non-null   float64\n",
      " 26  GarageCars     1121 non-null   int64  \n",
      " 27  GarageArea     1121 non-null   int64  \n",
      " 28  WoodDeckSF     1121 non-null   int64  \n",
      " 29  OpenPorchSF    1121 non-null   int64  \n",
      " 30  EnclosedPorch  1121 non-null   int64  \n",
      " 31  3SsnPorch      1121 non-null   int64  \n",
      " 32  ScreenPorch    1121 non-null   int64  \n",
      " 33  PoolArea       1121 non-null   int64  \n",
      " 34  MiscVal        1121 non-null   int64  \n",
      " 35  MoSold         1121 non-null   int64  \n",
      " 36  YrSold         1121 non-null   int64  \n",
      "dtypes: float64(3), int64(34)\n",
      "memory usage: 332.8 KB\n"
     ]
    }
   ],
   "source": [
    "x_train.info()"
   ]
  },
  {
   "cell_type": "code",
   "execution_count": 122,
   "id": "bb0ae7b6",
   "metadata": {},
   "outputs": [
    {
     "data": {
      "text/html": [
       "<div>\n",
       "<style scoped>\n",
       "    .dataframe tbody tr th:only-of-type {\n",
       "        vertical-align: middle;\n",
       "    }\n",
       "\n",
       "    .dataframe tbody tr th {\n",
       "        vertical-align: top;\n",
       "    }\n",
       "\n",
       "    .dataframe thead th {\n",
       "        text-align: right;\n",
       "    }\n",
       "</style>\n",
       "<table border=\"1\" class=\"dataframe\">\n",
       "  <thead>\n",
       "    <tr style=\"text-align: right;\">\n",
       "      <th></th>\n",
       "      <th>SalePrice</th>\n",
       "    </tr>\n",
       "  </thead>\n",
       "  <tbody>\n",
       "    <tr>\n",
       "      <th>0</th>\n",
       "      <td>208500</td>\n",
       "    </tr>\n",
       "    <tr>\n",
       "      <th>1</th>\n",
       "      <td>181500</td>\n",
       "    </tr>\n",
       "    <tr>\n",
       "      <th>2</th>\n",
       "      <td>223500</td>\n",
       "    </tr>\n",
       "    <tr>\n",
       "      <th>3</th>\n",
       "      <td>140000</td>\n",
       "    </tr>\n",
       "    <tr>\n",
       "      <th>4</th>\n",
       "      <td>250000</td>\n",
       "    </tr>\n",
       "  </tbody>\n",
       "</table>\n",
       "</div>"
      ],
      "text/plain": [
       "   SalePrice\n",
       "0     208500\n",
       "1     181500\n",
       "2     223500\n",
       "3     140000\n",
       "4     250000"
      ]
     },
     "execution_count": 122,
     "metadata": {},
     "output_type": "execute_result"
    }
   ],
   "source": [
    "y_train = pd.DataFrame(train_data['SalePrice'])\n",
    "y_train.head()"
   ]
  },
  {
   "cell_type": "code",
   "execution_count": 123,
   "id": "5731cb10",
   "metadata": {},
   "outputs": [],
   "source": [
    "y_train = y_train.dropna()"
   ]
  },
  {
   "cell_type": "code",
   "execution_count": 124,
   "id": "2be87db8",
   "metadata": {},
   "outputs": [
    {
     "data": {
      "text/plain": [
       "(1121, 37)"
      ]
     },
     "execution_count": 124,
     "metadata": {},
     "output_type": "execute_result"
    }
   ],
   "source": [
    "x_train.shape"
   ]
  },
  {
   "cell_type": "code",
   "execution_count": 125,
   "id": "105942eb",
   "metadata": {},
   "outputs": [
    {
     "data": {
      "text/plain": [
       "(1121, 1)"
      ]
     },
     "execution_count": 125,
     "metadata": {},
     "output_type": "execute_result"
    }
   ],
   "source": [
    "y_train.shape"
   ]
  },
  {
   "cell_type": "code",
   "execution_count": 126,
   "id": "4603792b",
   "metadata": {},
   "outputs": [
    {
     "name": "stdout",
     "output_type": "stream",
     "text": [
      "<class 'pandas.core.frame.DataFrame'>\n",
      "Int64Index: 1146 entries, 0 to 1458\n",
      "Data columns (total 37 columns):\n",
      " #   Column         Non-Null Count  Dtype  \n",
      "---  ------         --------------  -----  \n",
      " 0   Id             1146 non-null   int64  \n",
      " 1   MSSubClass     1146 non-null   int64  \n",
      " 2   LotFrontage    1146 non-null   float64\n",
      " 3   LotArea        1146 non-null   int64  \n",
      " 4   OverallQual    1146 non-null   int64  \n",
      " 5   OverallCond    1146 non-null   int64  \n",
      " 6   YearBuilt      1146 non-null   int64  \n",
      " 7   YearRemodAdd   1146 non-null   int64  \n",
      " 8   MasVnrArea     1146 non-null   float64\n",
      " 9   BsmtFinSF1     1146 non-null   float64\n",
      " 10  BsmtFinSF2     1146 non-null   float64\n",
      " 11  BsmtUnfSF      1146 non-null   float64\n",
      " 12  TotalBsmtSF    1146 non-null   float64\n",
      " 13  1stFlrSF       1146 non-null   int64  \n",
      " 14  2ndFlrSF       1146 non-null   int64  \n",
      " 15  LowQualFinSF   1146 non-null   int64  \n",
      " 16  GrLivArea      1146 non-null   int64  \n",
      " 17  BsmtFullBath   1146 non-null   float64\n",
      " 18  BsmtHalfBath   1146 non-null   float64\n",
      " 19  FullBath       1146 non-null   int64  \n",
      " 20  HalfBath       1146 non-null   int64  \n",
      " 21  BedroomAbvGr   1146 non-null   int64  \n",
      " 22  KitchenAbvGr   1146 non-null   int64  \n",
      " 23  TotRmsAbvGrd   1146 non-null   int64  \n",
      " 24  Fireplaces     1146 non-null   int64  \n",
      " 25  GarageYrBlt    1146 non-null   float64\n",
      " 26  GarageCars     1146 non-null   float64\n",
      " 27  GarageArea     1146 non-null   float64\n",
      " 28  WoodDeckSF     1146 non-null   int64  \n",
      " 29  OpenPorchSF    1146 non-null   int64  \n",
      " 30  EnclosedPorch  1146 non-null   int64  \n",
      " 31  3SsnPorch      1146 non-null   int64  \n",
      " 32  ScreenPorch    1146 non-null   int64  \n",
      " 33  PoolArea       1146 non-null   int64  \n",
      " 34  MiscVal        1146 non-null   int64  \n",
      " 35  MoSold         1146 non-null   int64  \n",
      " 36  YrSold         1146 non-null   int64  \n",
      "dtypes: float64(11), int64(26)\n",
      "memory usage: 340.2 KB\n"
     ]
    }
   ],
   "source": [
    "test_data = pd.read_csv('test.csv')\n",
    "x_test = test_data.select_dtypes(include=['int64','float64']).dropna()\n",
    "x_test.info()"
   ]
  },
  {
   "cell_type": "markdown",
   "id": "67347db6",
   "metadata": {},
   "source": [
    "------------------------------------------------------------------------------------------------------------------\n",
    "Linear Regression Model"
   ]
  },
  {
   "cell_type": "code",
   "execution_count": 127,
   "id": "e9f69c74",
   "metadata": {},
   "outputs": [
    {
     "name": "stdout",
     "output_type": "stream",
     "text": [
      "r2_score: 0.8095558023576825\n"
     ]
    }
   ],
   "source": [
    "from sklearn.linear_model import LinearRegression\n",
    "\n",
    "lr = LinearRegression()\n",
    "lr.fit(x_train, y_train)\n",
    "\n",
    "y_pred = lr.predict(x_train)\n",
    "\n",
    "from sklearn.metrics import r2_score\n",
    "\n",
    "r2 = r2_score(y_train, y_pred)\n",
    "print(\"r2_score:\", r2)"
   ]
  },
  {
   "cell_type": "code",
   "execution_count": 128,
   "id": "44116f4b",
   "metadata": {},
   "outputs": [
    {
     "data": {
      "image/png": "[encoded data removed]",
      "text/plain": [
       "<Figure size 432x288 with 1 Axes>"
      ]
     },
     "metadata": {
      "needs_background": "light"
     },
     "output_type": "display_data"
    }
   ],
   "source": [
    "plt.scatter(y_train, y_pred)\n",
    "plt.plot([min(y_pred), max(y_pred)], [min(y_pred), max(y_pred)], color='red', linestyle='--')  # Line of best fit\n",
    "plt.xlabel('Actual Values')\n",
    "plt.ylabel('Predicted Values')\n",
    "plt.title('Actual vs. Predicted Values')\n",
    "plt.show()"
   ]
  },
  {
   "cell_type": "code",
   "execution_count": 129,
   "id": "3e5b444f",
   "metadata": {},
   "outputs": [],
   "source": [
    "y_pred = lr.predict(x_test)"
   ]
  },
  {
   "cell_type": "code",
   "execution_count": 130,
   "id": "676ad168",
   "metadata": {},
   "outputs": [
    {
     "name": "stdout",
     "output_type": "stream",
     "text": [
      "predicted values:\n",
      " [[117706.22457225]\n",
      " [110072.26690167]\n",
      " [172769.60412765]\n",
      " ...\n",
      " [ 56425.60652424]\n",
      " [166318.34419451]\n",
      " [257641.81074099]]\n"
     ]
    }
   ],
   "source": [
    "print(\"predicted values:\\n\", y_pred)"
   ]
  },
  {
   "cell_type": "markdown",
   "id": "0323bab3",
   "metadata": {},
   "source": [
    "------------------------------------------------------------------------------------------------------\n",
    "Logistic Regression Model"
   ]
  },
  {
   "cell_type": "code",
   "execution_count": 131,
   "id": "c8284f0a",
   "metadata": {},
   "outputs": [
    {
     "name": "stderr",
     "output_type": "stream",
     "text": [
      "C:\\Users\\Spandana\\anaconda3\\lib\\site-packages\\sklearn\\utils\\validation.py:993: DataConversionWarning: A column-vector y was passed when a 1d array was expected. Please change the shape of y to (n_samples, ), for example using ravel().\n",
      "  y = column_or_1d(y, warn=True)\n"
     ]
    },
    {
     "name": "stdout",
     "output_type": "stream",
     "text": [
      "r2_score: 0.6220216459272282\n"
     ]
    },
    {
     "name": "stderr",
     "output_type": "stream",
     "text": [
      "C:\\Users\\Spandana\\anaconda3\\lib\\site-packages\\sklearn\\linear_model\\_logistic.py:814: ConvergenceWarning: lbfgs failed to converge (status=1):\n",
      "STOP: TOTAL NO. of ITERATIONS REACHED LIMIT.\n",
      "\n",
      "Increase the number of iterations (max_iter) or scale the data as shown in:\n",
      "    https://scikit-learn.org/stable/modules/preprocessing.html\n",
      "Please also refer to the documentation for alternative solver options:\n",
      "    https://scikit-learn.org/stable/modules/linear_model.html#logistic-regression\n",
      "  n_iter_i = _check_optimize_result(\n"
     ]
    }
   ],
   "source": [
    "from sklearn.linear_model import LogisticRegression\n",
    "\n",
    "model = LogisticRegression()\n",
    "model.fit(x_train,y_train)\n",
    "\n",
    "y_pred = model.predict(x_train)\n",
    "\n",
    "r2 = r2_score(y_train, y_pred)\n",
    "print(\"r2_score:\", r2)"
   ]
  },
  {
   "cell_type": "code",
   "execution_count": 132,
   "id": "77cc8d26",
   "metadata": {},
   "outputs": [
    {
     "data": {
      "text/plain": [
       "array([129000, 164900, 160000, ..., 125500, 160000, 125500], dtype=int64)"
      ]
     },
     "execution_count": 132,
     "metadata": {},
     "output_type": "execute_result"
    }
   ],
   "source": [
    "y_pred = model.predict(x_test)\n",
    "y_pred"
   ]
  },
  {
   "cell_type": "markdown",
   "id": "35b717ac",
   "metadata": {},
   "source": [
    "-------------------------------------------------------------------------------------------------------------\n",
    "Polynomial Curve Fitting"
   ]
  },
  {
   "cell_type": "code",
   "execution_count": 133,
   "id": "26581b3b",
   "metadata": {},
   "outputs": [
    {
     "name": "stdout",
     "output_type": "stream",
     "text": [
      "r2_score: 0.9723163299517129\n"
     ]
    }
   ],
   "source": [
    "from sklearn.preprocessing import PolynomialFeatures\n",
    "\n",
    "poly = PolynomialFeatures(degree=2)\n",
    "x_poly = poly.fit_transform(x_train)\n",
    "\n",
    "model = LinearRegression()\n",
    "model.fit(x_poly,y_train)\n",
    "\n",
    "x_fit = x_train\n",
    "x_fit_poly = poly.transform(x_fit)\n",
    "y_pred = model.predict(x_fit_poly)\n",
    "\n",
    "r2 = r2_score(y_train, y_pred)\n",
    "print(\"r2_score:\", r2)"
   ]
  },
  {
   "cell_type": "code",
   "execution_count": 134,
   "id": "1a0675d5",
   "metadata": {},
   "outputs": [
    {
     "name": "stdout",
     "output_type": "stream",
     "text": [
      "predicted values: [[   140246.2290225 ]\n",
      " [-19672378.9666822 ]\n",
      " [   197772.36864424]\n",
      " ...\n",
      " [    93492.5205884 ]\n",
      " [    81956.29357767]\n",
      " [   218472.53764558]]\n"
     ]
    }
   ],
   "source": [
    "x_fit = x_test\n",
    "x_fit_poly = poly.transform(x_fit)\n",
    "y_pred = model.predict(x_fit_poly)\n",
    "print(\"predicted values:\",y_pred)"
   ]
  },
  {
   "cell_type": "code",
   "execution_count": null,
   "id": "b7e12f4c",
   "metadata": {},
   "outputs": [],
   "source": []
  }
 ],
 "metadata": {
  "kernelspec": {
   "display_name": "Python 3 (ipykernel)",
   "language": "python",
   "name": "python3"
  },
  "language_info": {
   "codemirror_mode": {
    "name": "ipython",
    "version": 3
   },
   "file_extension": ".py",
   "mimetype": "text/x-python",
   "name": "python",
   "nbconvert_exporter": "python",
   "pygments_lexer": "ipython3",
   "version": "3.9.12"
  }
 },
 "nbformat": 4,
 "nbformat_minor": 5
}
